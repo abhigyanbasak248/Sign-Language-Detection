{
 "cells": [
  {
   "cell_type": "code",
   "execution_count": 1,
   "id": "bd3ef19c",
   "metadata": {},
   "outputs": [],
   "source": [
    "import cv2 as cv\n",
    "import os #for filepaths\n",
    "import time #get breaks between each image collection\n",
    "import uuid #to uniquely name our image files"
   ]
  },
  {
   "cell_type": "code",
   "execution_count": 2,
   "id": "65e48e36",
   "metadata": {},
   "outputs": [],
   "source": [
    "IMAGES_PATH='Tensorflow/workspace/images/collectedImages'"
   ]
  },
  {
   "cell_type": "code",
   "execution_count": 3,
   "id": "867e7a16",
   "metadata": {},
   "outputs": [],
   "source": [
    "labels=['hello','thanks','yes','no','iloveyou']\n",
    "number_imgs=15"
   ]
  },
  {
   "cell_type": "code",
   "execution_count": 4,
   "id": "056cafa9",
   "metadata": {},
   "outputs": [],
   "source": [
    "if not os.path.exists(IMAGES_PATH):\n",
    "    !mkdir -p {IMAGES_PATH}\n",
    "for label in labels:\n",
    "    path=os.path.join(IMAGES_PATH,label)\n",
    "    if not os.path.exists(path):\n",
    "        !mkdir -p {path}"
   ]
  },
  {
   "cell_type": "code",
   "execution_count": 7,
   "id": "cef36d5b",
   "metadata": {},
   "outputs": [
    {
     "name": "stdout",
     "output_type": "stream",
     "text": [
      "Collecting images for hello\n",
      "Collecting image 0\n",
      "Collecting image 1\n",
      "Collecting image 2\n",
      "Collecting image 3\n",
      "Collecting image 4\n",
      "Collecting image 5\n",
      "Collecting image 6\n",
      "Collecting image 7\n",
      "Collecting image 8\n",
      "Collecting image 9\n",
      "Collecting image 10\n",
      "Collecting image 11\n",
      "Collecting image 12\n",
      "Collecting image 13\n",
      "Collecting image 14\n",
      "Collecting images for thanks\n",
      "Collecting image 0\n",
      "Collecting image 1\n",
      "Collecting image 2\n",
      "Collecting image 3\n",
      "Collecting image 4\n",
      "Collecting image 5\n",
      "Collecting image 6\n",
      "Collecting image 7\n",
      "Collecting image 8\n",
      "Collecting image 9\n",
      "Collecting image 10\n",
      "Collecting image 11\n",
      "Collecting image 12\n",
      "Collecting image 13\n",
      "Collecting image 14\n",
      "Collecting images for yes\n",
      "Collecting image 0\n",
      "Collecting image 1\n",
      "Collecting image 2\n",
      "Collecting image 3\n",
      "Collecting image 4\n",
      "Collecting image 5\n",
      "Collecting image 6\n",
      "Collecting image 7\n",
      "Collecting image 8\n",
      "Collecting image 9\n",
      "Collecting image 10\n",
      "Collecting image 11\n",
      "Collecting image 12\n",
      "Collecting image 13\n",
      "Collecting image 14\n",
      "Collecting images for no\n",
      "Collecting image 0\n",
      "Collecting image 1\n",
      "Collecting image 2\n",
      "Collecting image 3\n",
      "Collecting image 4\n",
      "Collecting image 5\n",
      "Collecting image 6\n",
      "Collecting image 7\n",
      "Collecting image 8\n",
      "Collecting image 9\n",
      "Collecting image 10\n",
      "Collecting image 11\n",
      "Collecting image 12\n",
      "Collecting image 13\n",
      "Collecting image 14\n",
      "Collecting images for iloveyou\n",
      "Collecting image 0\n",
      "Collecting image 1\n",
      "Collecting image 2\n",
      "Collecting image 3\n",
      "Collecting image 4\n",
      "Collecting image 5\n",
      "Collecting image 6\n",
      "Collecting image 7\n",
      "Collecting image 8\n",
      "Collecting image 9\n",
      "Collecting image 10\n",
      "Collecting image 11\n",
      "Collecting image 12\n",
      "Collecting image 13\n",
      "Collecting image 14\n"
     ]
    }
   ],
   "source": [
    "for label in labels:\n",
    "    cap = cv.VideoCapture(0)\n",
    "    print('Collecting images for {}'.format(label))\n",
    "    time.sleep(5)\n",
    "    for imgnum in range(number_imgs):\n",
    "        print('Collecting image {}'.format(imgnum))\n",
    "        ret, frame = cap.read()\n",
    "        imgname = os.path.join(IMAGES_PATH,label,label+'.'+'{}.jpg'.format(str(uuid.uuid1())))\n",
    "        cv.imwrite(imgname, frame)\n",
    "        cv.imshow('frame', frame)\n",
    "        time.sleep(3)\n",
    "\n",
    "        if cv.waitKey(1) & 0xFF == ord('q'):\n",
    "            break\n",
    "cap.release()\n",
    "cv.destroyAllWindows()\n",
    "for i in range (1):\n",
    "    cv.waitKey(1)"
   ]
  },
  {
   "cell_type": "code",
   "execution_count": 2,
   "id": "702936d1",
   "metadata": {},
   "outputs": [],
   "source": [
    "LABEL_PATH=os.path.join('Tensorflow','labelImg')\n",
    "if not os.path.exists(LABEL_PATH):\n",
    "    !mkdir -p {LABEL_PATH}\n",
    "    !git clone https://github.com/tzutalin/labelImg {LABEL_PATH}"
   ]
  },
  {
   "cell_type": "code",
   "execution_count": 3,
   "id": "1cb3752e",
   "metadata": {},
   "outputs": [
    {
     "name": "stdout",
     "output_type": "stream",
     "text": [
      "pyrcc5 -o libs/resources.py resources.qrc\r\n"
     ]
    }
   ],
   "source": [
    "!cd {LABEL_PATH} && make qt5py3"
   ]
  },
  {
   "cell_type": "code",
   "execution_count": null,
   "id": "e448e018",
   "metadata": {},
   "outputs": [
    {
     "name": "stdout",
     "output_type": "stream",
     "text": [
      "Image:/Users/asmitabasak/Hand_Gesture/Tensorflow/workspace/images/test_gray/hello.5ab97ebe-a84e-11ed-85cd-d0817aad9ab8.jpg -> Annotation:/Users/asmitabasak/Hand_Gesture/Tensorflow/workspace/images/test_gray/hello.5ab97ebe-a84e-11ed-85cd-d0817aad9ab8.xml\n",
      "Image:/Users/asmitabasak/Hand_Gesture/Tensorflow/workspace/images/test_gray/hello.5c8d8f00-a84e-11ed-85cd-d0817aad9ab8.jpg -> Annotation:/Users/asmitabasak/Hand_Gesture/Tensorflow/workspace/images/test_gray/hello.5c8d8f00-a84e-11ed-85cd-d0817aad9ab8.xml\n",
      "Image:/Users/asmitabasak/Hand_Gesture/Tensorflow/workspace/images/test_gray/iloveyou.c7a6766c-a84e-11ed-85cd-d0817aad9ab8.jpg -> Annotation:/Users/asmitabasak/Hand_Gesture/Tensorflow/workspace/images/test_gray/iloveyou.c7a6766c-a84e-11ed-85cd-d0817aad9ab8.xml\n",
      "Image:/Users/asmitabasak/Hand_Gesture/Tensorflow/workspace/images/test_gray/iloveyou.d0c81cf0-a84e-11ed-85cd-d0817aad9ab8.jpg -> Annotation:/Users/asmitabasak/Hand_Gesture/Tensorflow/workspace/images/test_gray/iloveyou.d0c81cf0-a84e-11ed-85cd-d0817aad9ab8.xml\n",
      "Image:/Users/asmitabasak/Hand_Gesture/Tensorflow/workspace/images/test_gray/no.a7649b54-a84e-11ed-85cd-d0817aad9ab8.jpg -> Annotation:/Users/asmitabasak/Hand_Gesture/Tensorflow/workspace/images/test_gray/no.a7649b54-a84e-11ed-85cd-d0817aad9ab8.xml\n",
      "Image:/Users/asmitabasak/Hand_Gesture/Tensorflow/workspace/images/test_gray/no.aeb169b4-a84e-11ed-85cd-d0817aad9ab8.jpg -> Annotation:/Users/asmitabasak/Hand_Gesture/Tensorflow/workspace/images/test_gray/no.aeb169b4-a84e-11ed-85cd-d0817aad9ab8.xml\n"
     ]
    }
   ],
   "source": [
    "!cd {LABEL_PATH} && python labelImg.py"
   ]
  },
  {
   "cell_type": "code",
   "execution_count": null,
   "id": "197dc9fd",
   "metadata": {},
   "outputs": [],
   "source": []
  }
 ],
 "metadata": {
  "kernelspec": {
   "display_name": "Python 3 (ipykernel)",
   "language": "python",
   "name": "python3"
  },
  "language_info": {
   "codemirror_mode": {
    "name": "ipython",
    "version": 3
   },
   "file_extension": ".py",
   "mimetype": "text/x-python",
   "name": "python",
   "nbconvert_exporter": "python",
   "pygments_lexer": "ipython3",
   "version": "3.8.2"
  }
 },
 "nbformat": 4,
 "nbformat_minor": 5
}
